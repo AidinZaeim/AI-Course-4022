{
 "cells": [
  {
   "cell_type": "markdown",
   "id": "a99ed408-e0fc-40e7-8592-45e3a63ce513",
   "metadata": {},
   "source": [
    "# Image Classification\n",
    "This code utilizes TensorFlow and Keras to build a convolutional neural network (CNN) for image classification on the CIFAR-10 dataset. It loads and preprocesses the data, constructs a CNN model with convolutional layers, pooling, and dropout, compiles the model, and trains it using data augmentation. Finally, it evaluates the model's performance, predicts the class of a sample image, and displays the result."
   ]
  },
  {
   "cell_type": "markdown",
   "id": "6d8bce15-60d3-44a0-a2e3-ed69cab8faaf",
   "metadata": {},
   "source": [
    "## Import dependencies and load the data"
   ]
  },
  {
   "cell_type": "code",
   "execution_count": 6,
   "id": "3fb712f7-a590-4b74-9fac-2e3a1493ee0c",
   "metadata": {},
   "outputs": [],
   "source": [
    "import tensorflow as tf\n",
    "import pandas as pd\n",
    "import numpy as np\n",
    "import matplotlib.pyplot as plt\n",
    "from tensorflow.keras.datasets import cifar10\n",
    "from tensorflow.keras.layers import Dense, Conv2D, MaxPool2D, Flatten, Dropout, BatchNormalization\n",
    "from tensorflow.keras.models import Sequential\n",
    "from tensorflow.keras.callbacks import EarlyStopping\n",
    "from tensorflow.keras.preprocessing.image import ImageDataGenerator\n",
    "from tensorflow.keras.utils import to_categorical\n",
    "from sklearn.metrics import classification_report"
   ]
  },
  {
   "cell_type": "code",
   "execution_count": 26,
   "id": "e4df2f06-b69a-4968-8f7f-b8ec0cd2d0f1",
   "metadata": {},
   "outputs": [
    {
     "name": "stdout",
     "output_type": "stream",
     "text": [
      "X_train shape: (50000, 32, 32, 3)\n",
      "y_train shape: (50000, 1)\n",
      "X_test shape: (10000, 32, 32, 3)\n",
      "y_test shape: (10000, 1)\n"
     ]
    }
   ],
   "source": [
    "(X_train, y_train), (X_test, y_test) = cifar10.load_data()\n",
    "\n",
    "print(f\"X_train shape: {X_train.shape}\")\n",
    "print(f\"y_train shape: {y_train.shape}\")\n",
    "print(f\"X_test shape: {X_test.shape}\")\n",
    "print(f\"y_test shape: {y_test.shape}\")"
   ]
  },
  {
   "cell_type": "markdown",
   "id": "69ad4c38-969c-406f-8c4e-2daea4d11708",
   "metadata": {
    "jupyter": {
     "source_hidden": true
    }
   },
   "source": [
    "## Build the Model\n",
    "This code segment defines a CNN model architecture with convolutional, batch normalization, max-pooling, and dropout layers, compiled with appropriate loss and optimizer functions, along with evaluation metrics."
   ]
  },
  {
   "cell_type": "code",
   "execution_count": 10,
   "id": "e8029695-a7be-489a-8ece-5d2a706b6465",
   "metadata": {},
   "outputs": [],
   "source": [
    "INPUT_SHAPE = (32, 32, 3)\n",
    "KERNEL_SIZE = (3, 3)\n",
    "model = Sequential()\n",
    "\n",
    "# Convolutional Layer\n",
    "model.add(Conv2D(filters=32, kernel_size=KERNEL_SIZE, input_shape=INPUT_SHAPE, activation='relu', padding='same'))\n",
    "model.add(BatchNormalization())\n",
    "model.add(Conv2D(filters=32, kernel_size=KERNEL_SIZE, input_shape=INPUT_SHAPE, activation='relu', padding='same'))\n",
    "model.add(BatchNormalization())\n",
    "# Pooling layer\n",
    "model.add(MaxPool2D(pool_size=(2, 2)))\n",
    "# Dropout layers\n",
    "model.add(Dropout(0.25))\n",
    "\n",
    "model.add(Conv2D(filters=64, kernel_size=KERNEL_SIZE, input_shape=INPUT_SHAPE, activation='relu', padding='same'))\n",
    "model.add(BatchNormalization())\n",
    "model.add(Conv2D(filters=64, kernel_size=KERNEL_SIZE, input_shape=INPUT_SHAPE, activation='relu', padding='same'))\n",
    "model.add(BatchNormalization())\n",
    "model.add(MaxPool2D(pool_size=(2, 2)))\n",
    "model.add(Dropout(0.25))\n",
    "\n",
    "model.add(Conv2D(filters=128, kernel_size=KERNEL_SIZE, input_shape=INPUT_SHAPE, activation='relu', padding='same'))\n",
    "model.add(BatchNormalization())\n",
    "model.add(Conv2D(filters=128, kernel_size=KERNEL_SIZE, input_shape=INPUT_SHAPE, activation='relu', padding='same'))\n",
    "model.add(BatchNormalization())\n",
    "model.add(MaxPool2D(pool_size=(2, 2)))\n",
    "model.add(Dropout(0.25))\n",
    "\n",
    "model.add(Flatten())\n",
    "# model.add(Dropout(0.2))\n",
    "model.add(Dense(128, activation='relu'))\n",
    "model.add(Dropout(0.25))\n",
    "model.add(Dense(10, activation='softmax'))\n",
    "\n",
    "METRICS = [\n",
    "    'accuracy',\n",
    "    tf.keras.metrics.Precision(name='precision'),\n",
    "    tf.keras.metrics.Recall(name='recall')\n",
    "]\n",
    "model.compile(loss='categorical_crossentropy', optimizer='adam', metrics=METRICS)"
   ]
  },
  {
   "cell_type": "markdown",
   "id": "9baf8287-a633-4a87-b28e-ed7f48ca33f8",
   "metadata": {},
   "source": [
    "## Training the Model"
   ]
  },
  {
   "cell_type": "code",
   "execution_count": 27,
   "id": "21e4b1bd-9649-4778-aa59-6468d3bf8618",
   "metadata": {},
   "outputs": [],
   "source": [
    "X_train = X_train / 255.0\n",
    "X_test = X_test / 255.0\n",
    "\n",
    "y_train_categ = to_categorical(y_train, 10)\n",
    "y_test_categ = to_categorical(y_test, 10)"
   ]
  },
  {
   "cell_type": "code",
   "execution_count": 28,
   "id": "83e1e9ac-db7c-4de5-9770-528ce9e44e05",
   "metadata": {},
   "outputs": [
    {
     "name": "stdout",
     "output_type": "stream",
     "text": [
      "Epoch 1/2\n"
     ]
    },
    {
     "name": "stderr",
     "output_type": "stream",
     "text": [
      "C:\\Users\\Aidin\\Desktop\\uni4022\\AI\\DecisionTree\\env\\Lib\\site-packages\\keras\\src\\trainers\\data_adapters\\py_dataset_adapter.py:120: UserWarning: Your `PyDataset` class should call `super().__init__(**kwargs)` in its constructor. `**kwargs` can include `workers`, `use_multiprocessing`, `max_queue_size`. Do not pass these arguments to `fit()`, as they will be ignored.\n",
      "  self._warn_if_super_not_called()\n"
     ]
    },
    {
     "name": "stdout",
     "output_type": "stream",
     "text": [
      "\u001b[1m1562/1562\u001b[0m \u001b[32m━━━━━━━━━━━━━━━━━━━━\u001b[0m\u001b[37m\u001b[0m \u001b[1m284s\u001b[0m 176ms/step - accuracy: 0.6198 - loss: 1.0945 - precision: 0.7620 - recall: 0.4808 - val_accuracy: 0.6677 - val_loss: 0.9865 - val_precision: 0.7607 - val_recall: 0.5821\n",
      "Epoch 2/2\n",
      "\u001b[1m   1/1562\u001b[0m \u001b[37m━━━━━━━━━━━━━━━━━━━━\u001b[0m \u001b[1m4:45\u001b[0m 183ms/step - accuracy: 0.6562 - loss: 0.8536 - precision: 0.7600 - recall: 0.5938"
     ]
    },
    {
     "name": "stderr",
     "output_type": "stream",
     "text": [
      "C:\\Users\\Aidin\\AppData\\Local\\Programs\\Python\\Python312\\Lib\\contextlib.py:158: UserWarning: Your input ran out of data; interrupting training. Make sure that your dataset or generator can generate at least `steps_per_epoch * epochs` batches. You may need to use the `.repeat()` function when building your dataset.\n",
      "  self.gen.throw(value)\n"
     ]
    },
    {
     "name": "stdout",
     "output_type": "stream",
     "text": [
      "\u001b[1m1562/1562\u001b[0m \u001b[32m━━━━━━━━━━━━━━━━━━━━\u001b[0m\u001b[37m\u001b[0m \u001b[1m12s\u001b[0m 8ms/step - accuracy: 0.6562 - loss: 0.8536 - precision: 0.7600 - recall: 0.5938 - val_accuracy: 0.6693 - val_loss: 0.9796 - val_precision: 0.7614 - val_recall: 0.5856\n"
     ]
    }
   ],
   "source": [
    "early_stop = EarlyStopping(monitor='val_loss', patience=2)\n",
    "batch_size = 32\n",
    "data_generator = ImageDataGenerator(width_shift_range=0.1, height_shift_range=0.1, horizontal_flip=True)\n",
    "train_generator = data_generator.flow(X_train, y_train_categ, batch_size)\n",
    "steps_per_epoch = X_train.shape[0] // batch_size\n",
    "\n",
    "r = model.fit(train_generator,\n",
    "              epochs=2,\n",
    "              steps_per_epoch=steps_per_epoch,\n",
    "              validation_data=(X_test, y_test_categ),\n",
    "              callbacks=[early_stop],\n",
    "              batch_size=batch_size,\n",
    "             )\n"
   ]
  },
  {
   "cell_type": "markdown",
   "id": "fefa0610-069f-4223-b5dd-4da1151f5483",
   "metadata": {},
   "source": [
    "## Ploting the Loss \n",
    "This code creates a figure with a specific size and then plots the training and validation loss evolution over epochs, presenting it in a subplot format."
   ]
  },
  {
   "cell_type": "code",
   "execution_count": 46,
   "id": "a72c7c41-43b1-4bc1-862c-cfb101c16ad3",
   "metadata": {},
   "outputs": [
    {
     "data": {
      "text/plain": [
       "<matplotlib.legend.Legend at 0x1434f804200>"
      ]
     },
     "execution_count": 46,
     "metadata": {},
     "output_type": "execute_result"
    },
    {
     "data": {
      "image/png": "[encoded data removed]",
      "text/plain": [
       "<Figure size 1200x1600 with 1 Axes>"
      ]
     },
     "metadata": {},
     "output_type": "display_data"
    }
   ],
   "source": [
    "plt.figure(figsize=(12, 16))\n",
    "\n",
    "plt.subplot(4, 2, 1)\n",
    "plt.plot(r.history['loss'], label='Loss')\n",
    "plt.plot(r.history['val_loss'], label='val_Loss')\n",
    "plt.title('Loss')\n",
    "plt.legend()\n"
   ]
  },
  {
   "cell_type": "code",
   "execution_count": 31,
   "id": "dc47446c-dd72-4664-9d10-c603797830eb",
   "metadata": {},
   "outputs": [
    {
     "name": "stdout",
     "output_type": "stream",
     "text": [
      "              precision    recall  f1-score   support\n",
      "\n",
      "           0       0.72      0.76      0.74      1000\n",
      "           1       0.81      0.90      0.85      1000\n",
      "           2       0.79      0.28      0.42      1000\n",
      "           3       0.45      0.40      0.42      1000\n",
      "           4       0.75      0.47      0.57      1000\n",
      "           5       0.46      0.76      0.57      1000\n",
      "           6       0.55      0.90      0.68      1000\n",
      "           7       0.84      0.60      0.70      1000\n",
      "           8       0.90      0.77      0.83      1000\n",
      "           9       0.78      0.86      0.82      1000\n",
      "\n",
      "    accuracy                           0.67     10000\n",
      "   macro avg       0.70      0.67      0.66     10000\n",
      "weighted avg       0.70      0.67      0.66     10000\n",
      "\n"
     ]
    }
   ],
   "source": [
    "print(classification_report(y_test, y_pred))"
   ]
  },
  {
   "cell_type": "markdown",
   "id": "d81dbd0f-228e-4409-8203-fc65386acf3b",
   "metadata": {},
   "source": [
    "## Evaluation and testing the model"
   ]
  },
  {
   "cell_type": "code",
   "execution_count": 49,
   "id": "b27153b0-e051-472c-9977-38146f8b3a11",
   "metadata": {},
   "outputs": [
    {
     "name": "stdout",
     "output_type": "stream",
     "text": [
      "\u001b[1m313/313\u001b[0m \u001b[32m━━━━━━━━━━━━━━━━━━━━\u001b[0m\u001b[37m\u001b[0m \u001b[1m14s\u001b[0m 46ms/step - accuracy: 0.6686 - loss: 0.9746 - precision: 0.7608 - recall: 0.5910\n",
      "Test Accuracy : 66.93%\n",
      "\u001b[1m313/313\u001b[0m \u001b[32m━━━━━━━━━━━━━━━━━━━━\u001b[0m\u001b[37m\u001b[0m \u001b[1m14s\u001b[0m 45ms/step\n"
     ]
    }
   ],
   "source": [
    "evaluation = model.evaluate(X_test, y_test_categ)\n",
    "print(f'Test Accuracy : {evaluation[1] * 100:.2f}%')\n",
    "\n",
    "y_pred = model.predict(X_test)"
   ]
  },
  {
   "cell_type": "code",
   "execution_count": 41,
   "id": "dac230b0-6ed7-4a4d-878a-6f6aa2ba247a",
   "metadata": {},
   "outputs": [
    {
     "name": "stdout",
     "output_type": "stream",
     "text": [
      " Image 100 is [5]\n",
      "\u001b[1m1/1\u001b[0m \u001b[32m━━━━━━━━━━━━━━━━━━━━\u001b[0m\u001b[37m\u001b[0m \u001b[1m0s\u001b[0m 43ms/step\n",
      "The model predict that image 100 is 3\n"
     ]
    },
    {
     "data": {
      "image/png": "[encoded data removed]",
      "text/plain": [
       "<Figure size 640x480 with 1 Axes>"
      ]
     },
     "metadata": {},
     "output_type": "display_data"
    }
   ],
   "source": [
    "my_image = X_test[33]\n",
    "plt.imshow(my_image)\n",
    "print(f\" Image 100 is {y_test[33]}\")\n",
    "\n",
    "pred_100 = np.argmax(model.predict(my_image.reshape(1, 32, 32, 3)))\n",
    "print(f\"The model predict that image 100 is {pred_100}\")"
   ]
  }
 ],
 "metadata": {
  "kernelspec": {
   "display_name": "Python 3 (ipykernel)",
   "language": "python",
   "name": "python3"
  },
  "language_info": {
   "codemirror_mode": {
    "name": "ipython",
    "version": 3
   },
   "file_extension": ".py",
   "mimetype": "text/x-python",
   "name": "python",
   "nbconvert_exporter": "python",
   "pygments_lexer": "ipython3",
   "version": "3.12.1"
  }
 },
 "nbformat": 4,
 "nbformat_minor": 5
}
