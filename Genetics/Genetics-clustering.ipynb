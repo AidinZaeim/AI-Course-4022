{
 "cells": [
  {
   "cell_type": "markdown",
   "id": "de996109-931a-48e7-ad9d-e5fa6fcafe05",
   "metadata": {},
   "source": [
    "# Clustering using Genetic Algorithm"
   ]
  },
  {
   "cell_type": "markdown",
   "id": "db79a459-b507-4407-8f5a-f281cf925d18",
   "metadata": {},
   "source": [
    "## Introduction\n",
    "This Python script implements a genetic algorithm to perform clustering on the Iris dataset. The genetic algorithm optimizes the assignment of data points to clusters by maximizing a fitness metric based on minimizing the Euclidean distance within clusters. The algorithm utilizes selection, crossover, and mutation operations over multiple generations to evolve a population of cluster assignments."
   ]
  },
  {
   "cell_type": "markdown",
   "id": "9ba4fe48-d6bd-45ee-8be4-60f68c037b01",
   "metadata": {},
   "source": [
    "### Import dependencies"
   ]
  },
  {
   "cell_type": "code",
   "execution_count": 20,
   "id": "f2fa1361-f201-4e1e-aa81-d77698b3655d",
   "metadata": {},
   "outputs": [],
   "source": [
    "import pandas as pd\n",
    "import numpy as np\n",
    "import matplotlib.pyplot as plt\n",
    "from random import random, randint, sample\n",
    "from sklearn.metrics import accuracy_score\n",
    "from scipy.optimize import linear_sum_assignment\n",
    "from sklearn.preprocessing import LabelEncoder"
   ]
  },
  {
   "cell_type": "markdown",
   "id": "2e58cba9-5d0b-4aab-9041-e6d6452c4fd3",
   "metadata": {},
   "source": [
    "### Population Generation\n",
    "This function initializes a population of individuals where each individual represents a potential solution (cluster assignment). It randomly assigns data points to clusters based on the specified number of clusters (num_clusters) and the size of the dataset (genome_size)."
   ]
  },
  {
   "cell_type": "code",
   "execution_count": 21,
   "id": "08008838-efaa-40ac-a646-40963abbf7f5",
   "metadata": {},
   "outputs": [],
   "source": [
    "def initialize_population(population_size):\n",
    "    population = []\n",
    "    for _ in range(population_size):\n",
    "        individual = [randint(1, num_clusters) for _ in range(genome_size)]\n",
    "        population.append(individual)\n",
    "    return population"
   ]
  },
  {
   "cell_type": "markdown",
   "id": "4d51e43c-b99e-4516-b145-e9825976836b",
   "metadata": {},
   "source": [
    "### Calculate Euclidean distance"
   ]
  },
  {
   "cell_type": "code",
   "execution_count": 22,
   "id": "b6f9404e-1ccb-44ef-91a4-a7384bd48624",
   "metadata": {},
   "outputs": [],
   "source": [
    "def euclidean_distance(point1, point2):\n",
    "    return np.sqrt(np.sum((np.array(point1) - np.array(point2)) ** 2))"
   ]
  },
  {
   "cell_type": "markdown",
   "id": "11082cb3-febb-4070-8543-508c2bd761df",
   "metadata": {},
   "source": [
    "### Find Cluster Center"
   ]
  },
  {
   "cell_type": "code",
   "execution_count": 23,
   "id": "765b60b2-4c54-4c5f-bae8-235806e30dc1",
   "metadata": {},
   "outputs": [],
   "source": [
    "def find_cluster_center(cluster):\n",
    "    return np.mean(cluster, axis=0)"
   ]
  },
  {
   "cell_type": "markdown",
   "id": "37bc9b9d-86dd-4d9a-b598-2ab551d11ea0",
   "metadata": {},
   "source": [
    "### Fitness\n",
    "The fitness function calculates the fitness of an individual (cluster assignment) by computing the inverse of the sum of Euclidean distances within clusters. It first organizes data points into clusters based on the provided individual, computes the centroid for each cluster, and then measures the average distance of data points to their respective centroids."
   ]
  },
  {
   "cell_type": "code",
   "execution_count": 24,
   "id": "3f531ebb-41dc-4f39-874d-98d923651d11",
   "metadata": {},
   "outputs": [],
   "source": [
    "def fitness(individual, df):\n",
    "    clusters = {i: [] for i in range(1, num_clusters + 1)}\n",
    "    for i, cluster_id in enumerate(individual):\n",
    "        clusters[cluster_id].append(df.iloc[i].values)\n",
    "    \n",
    "    sum_of_distances = 0\n",
    "    for cluster_points in clusters.values():\n",
    "        if cluster_points:\n",
    "            cluster_center = find_cluster_center(cluster_points)\n",
    "            for point in cluster_points:\n",
    "                sum_of_distances += euclidean_distance(cluster_center, point)\n",
    "    \n",
    "    return 1 / sum_of_distances if sum_of_distances > 0 else float('inf')\n"
   ]
  },
  {
   "cell_type": "markdown",
   "id": "48936b1d-3e03-4f1e-a92d-5534b34bb65c",
   "metadata": {},
   "source": [
    "### Selection, Mutation, Cross-over\n",
    "The selection function chooses parent individuals from the population based on their fitness scores, using tournament selection to ensure that individuals with higher fitness have a higher chance of being selected. Crossover combines genetic material from two parent individuals to create offspring, promoting genetic diversity. Mutation introduces random changes to individual solutions, helping explore new possibilities in the search space."
   ]
  },
  {
   "cell_type": "code",
   "execution_count": 25,
   "id": "8c3bb385-927a-44ab-84ec-c59a6959144d",
   "metadata": {},
   "outputs": [],
   "source": [
    "def selection(population, fitnesses):\n",
    "    tournament = [population[randint(0, len(population) - 1)] for _ in range(tournament_size)]\n",
    "    tournament_fitnesses = [fitnesses[population.index(ind)] for ind in tournament]\n",
    "    return tournament[np.argmax(tournament_fitnesses)]\n",
    "\n",
    "def crossover(parent1, parent2):\n",
    "    crossover_point1, crossover_point2 = sorted(sample(range(genome_size), 2))\n",
    "    child1 = parent1[:crossover_point1] + parent2[crossover_point1:crossover_point2] + parent1[crossover_point2:]\n",
    "    child2 = parent2[:crossover_point1] + parent1[crossover_point1:crossover_point2] + parent2[crossover_point2:]\n",
    "    return child1, child2\n",
    "\n",
    "def mutate(individual):\n",
    "    if random() < mutation_rate:\n",
    "        mutation_point = randint(0, genome_size - 1)\n",
    "        individual[mutation_point] = randint(1, num_clusters)"
   ]
  },
  {
   "cell_type": "markdown",
   "id": "64259d66-627f-4fbf-955c-ba18809bf752",
   "metadata": {},
   "source": [
    "### Calculate clustering accuracy"
   ]
  },
  {
   "cell_type": "code",
   "execution_count": 26,
   "id": "dae81620-e8b6-47b1-a131-96608c9d74c6",
   "metadata": {},
   "outputs": [],
   "source": [
    "def calculate_accuracy(individual, true_labels):\n",
    "    individual = np.array(individual) - 1\n",
    "    encoder = LabelEncoder()\n",
    "    true_labels = encoder.fit_transform(true_labels)\n",
    "    \n",
    "    cost_matrix = np.zeros((num_clusters, num_clusters))\n",
    "    for i in range(num_clusters):\n",
    "        for j in range(num_clusters):\n",
    "            cost_matrix[i, j] = np.sum((individual == i) & (true_labels == j))\n",
    "    \n",
    "    row_ind, col_ind = linear_sum_assignment(-cost_matrix)\n",
    "    accuracy = np.sum(individual == col_ind[true_labels]) / len(true_labels)\n",
    "    \n",
    "    return round(accuracy*100, 2)"
   ]
  },
  {
   "cell_type": "markdown",
   "id": "8060b2f9-5531-4d5d-b1ff-fc20e6a19b4a",
   "metadata": {},
   "source": [
    "### Generic Algorithms\n",
    "The main genetic_algorithm function orchestrates the entire clustering process using a genetic algorithm approach. It initializes a population of cluster assignments, iterates through a specified number of generations, evaluates fitness, performs selection, crossover, and mutation operations to evolve the population, and tracks the best fitness and accuracy achieved. At the end of execution, it displays plots showing the evolution of fitness and accuracy over generations and returns the best clustering solution found."
   ]
  },
  {
   "cell_type": "code",
   "execution_count": 27,
   "id": "715341e0-57c3-4566-8391-2eb5fe84336b",
   "metadata": {},
   "outputs": [],
   "source": [
    "def genetic_algorithm(population_size):\n",
    "    population = initialize_population(population_size)\n",
    "    best_individual = None\n",
    "    best_fitness = -float('inf')\n",
    "    fitness_over_time = []\n",
    "    accuracy_over_time = []\n",
    "\n",
    "    for generation in range(max_generations):\n",
    "        fitnesses = [fitness(ind, df) for ind in population]\n",
    "        \n",
    "        new_population = []\n",
    "        for _ in range(len(population) // 2):\n",
    "            parent1 = selection(population, fitnesses)\n",
    "            parent2 = selection(population, fitnesses)\n",
    "            child1, child2 = crossover(parent1, parent2)\n",
    "            mutate(child1)\n",
    "            mutate(child2)\n",
    "            new_population.extend([child1, child2])\n",
    "        \n",
    "        population = new_population\n",
    "\n",
    "        current_best_fitness = max(fitnesses)\n",
    "        fitness_over_time.append(current_best_fitness)\n",
    "        \n",
    "        current_best_individual = population[np.argmax(fitnesses)]\n",
    "        current_accuracy = calculate_accuracy(current_best_individual, labels)\n",
    "        accuracy_over_time.append(current_accuracy)\n",
    "        \n",
    "        if current_best_fitness > best_fitness:\n",
    "            best_fitness = current_best_fitness\n",
    "            best_individual = current_best_individual\n",
    "            best_accuracy = current_accuracy\n",
    "        \n",
    "\n",
    "        print(f\"Generation {generation+1}: Best Fitness = {best_fitness}, Accuracy = {current_accuracy}\")\n",
    "\n",
    "    plt.figure(figsize=(12, 5))\n",
    "    plt.subplot(1, 2, 1)\n",
    "    plt.plot(fitness_over_time)\n",
    "    plt.xlabel('Generation')\n",
    "    plt.ylabel('Fitness')\n",
    "    plt.title('Fitness Over Generations')\n",
    "    \n",
    "    plt.subplot(1, 2, 2)\n",
    "    plt.plot(accuracy_over_time)\n",
    "    plt.xlabel('Generation')\n",
    "    plt.ylabel('Accuracy')\n",
    "    plt.title('Accuracy Over Generations')\n",
    "    \n",
    "    plt.show()\n",
    "\n",
    "    print(f\"best fitness = {best_fitness} for population size of {population_size}.\")\n",
    "\n",
    "    return best_individual, best_fitness,best_accuracy, accuracy_over_time, fitness_over_time\n"
   ]
  },
  {
   "cell_type": "markdown",
   "id": "b287f5f3-f81c-4d00-af28-b17aa2990818",
   "metadata": {},
   "source": [
    "### Run Genetic Algorithm with Tuning Population Size\n",
    "The run_genetic_algorithm_with_tuning function iterates over a list of population sizes and executes the genetic algorithm for each size, collecting the best individual, fitness, accuracy, and the evolution of these metrics over generations. It plots the fitness and accuracy trends for each population size, providing insights into how different sizes affect algorithm performance."
   ]
  },
  {
   "cell_type": "code",
   "execution_count": 28,
   "id": "de9c6a39-33ad-4410-be87-f73fb4ac07c9",
   "metadata": {},
   "outputs": [],
   "source": [
    "def run_genetic_algorithm_with_tuning(population_sizes):\n",
    "    results = []\n",
    "    for pop_size in population_sizes:\n",
    "        print(f\"Running genetic algorithm with population size = {pop_size}\")\n",
    "        best_individual, best_fitness, best_accuracy, accuracy_over_time, fitness_over_time = genetic_algorithm(pop_size)\n",
    "        results.append((pop_size, best_individual, best_fitness, best_accuracy, accuracy_over_time, fitness_over_time))\n",
    "    \n",
    "    # Plotting results\n",
    "    plt.figure(figsize=(15, 10))\n",
    "\n",
    "    plt.subplot(2, 1, 1)\n",
    "    for result in results:\n",
    "        plt.plot(result[4], label=f\"Population Size = {result[0]}\")\n",
    "    plt.xlabel('Generation')\n",
    "    plt.ylabel('Best Fitnesses')\n",
    "    plt.title('Fitness Over Generations')\n",
    "    plt.legend()\n",
    "\n",
    "    plt.subplot(2, 1, 2)\n",
    "    for result in results:\n",
    "        plt.plot(result[5], label=f\"Population Size = {result[0]}\")\n",
    "    plt.xlabel('Generation')\n",
    "    plt.ylabel('Best Accuracies')\n",
    "    plt.title('Accuracy Over Generations')\n",
    "    plt.legend()\n",
    "\n",
    "    plt.tight_layout()\n",
    "    plt.show()\n",
    "\n",
    "    # Return all results\n",
    "    return results\n"
   ]
  },
  {
   "cell_type": "markdown",
   "id": "9b975b38-0ecb-4cff-8803-75e1a98730ba",
   "metadata": {},
   "source": [
    "## Main"
   ]
  },
  {
   "cell_type": "code",
   "execution_count": 34,
   "id": "e8f97107-2914-4ded-9258-2ebfab0b70ae",
   "metadata": {},
   "outputs": [
    {
     "name": "stdout",
     "output_type": "stream",
     "text": [
      "Running genetic algorithm with population size = 10\n",
      "Generation 1: Best Fitness = 0.0036877327611898247, Accuracy = 33.33\n",
      "Generation 2: Best Fitness = 0.0036877327611898247, Accuracy = 42.67\n",
      "Generation 3: Best Fitness = 0.0036877327611898247, Accuracy = 42.67\n",
      "Generation 4: Best Fitness = 0.0036877327611898247, Accuracy = 42.67\n",
      "Generation 5: Best Fitness = 0.0036877327611898247, Accuracy = 42.67\n",
      "Generation 6: Best Fitness = 0.0036877327611898247, Accuracy = 42.67\n",
      "Generation 7: Best Fitness = 0.0036877327611898247, Accuracy = 42.67\n",
      "Generation 8: Best Fitness = 0.0036877327611898247, Accuracy = 42.67\n",
      "Generation 9: Best Fitness = 0.0036877327611898247, Accuracy = 42.67\n",
      "Generation 10: Best Fitness = 0.0036877327611898247, Accuracy = 42.67\n",
      "Generation 11: Best Fitness = 0.0036877327611898247, Accuracy = 42.67\n",
      "Generation 12: Best Fitness = 0.0036877327611898247, Accuracy = 42.67\n",
      "Generation 13: Best Fitness = 0.0036877327611898247, Accuracy = 42.67\n",
      "Generation 14: Best Fitness = 0.0036877327611898247, Accuracy = 42.67\n",
      "Generation 15: Best Fitness = 0.0036877327611898247, Accuracy = 42.67\n",
      "Generation 16: Best Fitness = 0.0036877327611898247, Accuracy = 42.67\n",
      "Generation 17: Best Fitness = 0.0036877327611898247, Accuracy = 42.67\n",
      "Generation 18: Best Fitness = 0.0036877327611898247, Accuracy = 42.67\n",
      "Generation 19: Best Fitness = 0.0036877327611898247, Accuracy = 42.67\n",
      "Generation 20: Best Fitness = 0.0036877327611898247, Accuracy = 42.67\n",
      "Generation 21: Best Fitness = 0.0036877327611898247, Accuracy = 42.67\n",
      "Generation 22: Best Fitness = 0.0036877327611898247, Accuracy = 42.67\n",
      "Generation 23: Best Fitness = 0.0036877327611898247, Accuracy = 42.67\n",
      "Generation 24: Best Fitness = 0.0036877327611898247, Accuracy = 42.67\n",
      "Generation 25: Best Fitness = 0.0036877327611898247, Accuracy = 42.67\n",
      "Generation 26: Best Fitness = 0.0036877327611898247, Accuracy = 42.67\n",
      "Generation 27: Best Fitness = 0.0036877327611898247, Accuracy = 42.67\n",
      "Generation 28: Best Fitness = 0.0036877327611898247, Accuracy = 42.67\n",
      "Generation 29: Best Fitness = 0.0036877327611898247, Accuracy = 42.67\n",
      "Generation 30: Best Fitness = 0.0036877327611898247, Accuracy = 42.67\n",
      "Generation 31: Best Fitness = 0.0036877327611898247, Accuracy = 42.67\n",
      "Generation 32: Best Fitness = 0.0036877327611898247, Accuracy = 42.67\n",
      "Generation 33: Best Fitness = 0.0036877327611898247, Accuracy = 42.67\n",
      "Generation 34: Best Fitness = 0.0036877327611898247, Accuracy = 42.67\n",
      "Generation 35: Best Fitness = 0.0036877327611898247, Accuracy = 42.67\n",
      "Generation 36: Best Fitness = 0.0036877327611898247, Accuracy = 42.67\n",
      "Generation 37: Best Fitness = 0.0036877327611898247, Accuracy = 42.67\n",
      "Generation 38: Best Fitness = 0.0036877327611898247, Accuracy = 42.67\n",
      "Generation 39: Best Fitness = 0.0036877327611898247, Accuracy = 42.67\n",
      "Generation 40: Best Fitness = 0.0036877327611898247, Accuracy = 42.67\n",
      "Generation 41: Best Fitness = 0.0036877327611898247, Accuracy = 42.67\n",
      "Generation 42: Best Fitness = 0.0036877327611898247, Accuracy = 42.67\n",
      "Generation 43: Best Fitness = 0.0036877327611898247, Accuracy = 42.67\n",
      "Generation 44: Best Fitness = 0.0036877327611898247, Accuracy = 42.67\n",
      "Generation 45: Best Fitness = 0.0036877327611898247, Accuracy = 42.67\n",
      "Generation 46: Best Fitness = 0.0036877327611898247, Accuracy = 42.67\n",
      "Generation 47: Best Fitness = 0.0036877327611898247, Accuracy = 42.67\n",
      "Generation 48: Best Fitness = 0.0036877327611898247, Accuracy = 42.67\n",
      "Generation 49: Best Fitness = 0.0036877327611898247, Accuracy = 42.67\n",
      "Generation 50: Best Fitness = 0.0036877327611898247, Accuracy = 42.67\n",
      "Generation 51: Best Fitness = 0.0036877327611898247, Accuracy = 42.67\n",
      "Generation 52: Best Fitness = 0.0036877327611898247, Accuracy = 42.67\n",
      "Generation 53: Best Fitness = 0.0036877327611898247, Accuracy = 42.67\n",
      "Generation 54: Best Fitness = 0.0036877327611898247, Accuracy = 42.67\n",
      "Generation 55: Best Fitness = 0.0036877327611898247, Accuracy = 42.67\n",
      "Generation 56: Best Fitness = 0.0036877327611898247, Accuracy = 42.67\n",
      "Generation 57: Best Fitness = 0.0036877327611898247, Accuracy = 42.67\n",
      "Generation 58: Best Fitness = 0.0036877327611898247, Accuracy = 42.67\n",
      "Generation 59: Best Fitness = 0.0036877327611898247, Accuracy = 42.67\n",
      "Unexpected exception formatting exception. Falling back to standard exception\n"
     ]
    },
    {
     "name": "stderr",
     "output_type": "stream",
     "text": [
      "Traceback (most recent call last):\n",
      "  File \"C:\\Users\\Aidin\\Desktop\\uni4022\\AI\\DecisionTree\\env\\Lib\\site-packages\\IPython\\core\\interactiveshell.py\", line 3577, in run_code\n",
      "    exec(code_obj, self.user_global_ns, self.user_ns)\n",
      "  File \"C:\\Users\\Aidin\\AppData\\Local\\Temp\\ipykernel_12688\\3881618803.py\", line 21, in <module>\n",
      "    results = run_genetic_algorithm_with_tuning(population_sizes_to_tune)\n",
      "              ^^^^^^^^^^^^^^^^^^^^^^^^^^^^^^^^^^^^^^^^^^^^^^^^^^^^^^^^^^^\n",
      "  File \"C:\\Users\\Aidin\\AppData\\Local\\Temp\\ipykernel_12688\\2744423964.py\", line 5, in run_genetic_algorithm_with_tuning\n",
      "    best_individual, best_fitness, best_accuracy, accuracy_over_time, fitness_over_time = genetic_algorithm(pop_size)\n",
      "                                                                                          ^^^^^^^^^^^^^^^^^^^^^^^^^^^\n",
      "  File \"C:\\Users\\Aidin\\AppData\\Local\\Temp\\ipykernel_12688\\2335260082.py\", line 9, in genetic_algorithm\n",
      "    fitnesses = [fitness(ind, df) for ind in population]\n",
      "                 ^^^^^^^^^^^^^^^^\n",
      "  File \"C:\\Users\\Aidin\\AppData\\Local\\Temp\\ipykernel_12688\\2188681981.py\", line 4, in fitness\n",
      "    clusters[cluster_id].append(df.iloc[i].values)\n",
      "                                ~~~~~~~^^^\n",
      "  File \"C:\\Users\\Aidin\\Desktop\\uni4022\\AI\\DecisionTree\\env\\Lib\\site-packages\\pandas\\core\\indexing.py\", line 1191, in __getitem__\n",
      "    return self._getitem_axis(maybe_callable, axis=axis)\n",
      "           ^^^^^^^^^^^^^^^^^^^^^^^^^^^^^^^^^^^^^^^^^^^^^\n",
      "  File \"C:\\Users\\Aidin\\Desktop\\uni4022\\AI\\DecisionTree\\env\\Lib\\site-packages\\pandas\\core\\indexing.py\", line 1754, in _getitem_axis\n",
      "    return self.obj._ixs(key, axis=axis)\n",
      "           ^^^^^^^^^^^^^^^^^^^^^^^^^^^^^\n",
      "  File \"C:\\Users\\Aidin\\Desktop\\uni4022\\AI\\DecisionTree\\env\\Lib\\site-packages\\pandas\\core\\frame.py\", line 3996, in _ixs\n",
      "    new_mgr = self._mgr.fast_xs(i)\n",
      "              ^^^^^^^^^^^^^^^^^^^^\n",
      "  File \"C:\\Users\\Aidin\\Desktop\\uni4022\\AI\\DecisionTree\\env\\Lib\\site-packages\\pandas\\core\\internals\\managers.py\", line 958, in fast_xs\n",
      "    def fast_xs(self, loc: int) -> SingleBlockManager:\n",
      "    \n",
      "KeyboardInterrupt\n",
      "\n",
      "During handling of the above exception, another exception occurred:\n",
      "\n",
      "Traceback (most recent call last):\n",
      "  File \"C:\\Users\\Aidin\\Desktop\\uni4022\\AI\\DecisionTree\\env\\Lib\\site-packages\\IPython\\core\\interactiveshell.py\", line 2168, in showtraceback\n",
      "    stb = self.InteractiveTB.structured_traceback(\n",
      "          ^^^^^^^^^^^^^^^^^^^^^^^^^^^^^^^^^^^^^^^^\n",
      "  File \"C:\\Users\\Aidin\\Desktop\\uni4022\\AI\\DecisionTree\\env\\Lib\\site-packages\\IPython\\core\\ultratb.py\", line 1454, in structured_traceback\n",
      "    return FormattedTB.structured_traceback(\n",
      "           ^^^^^^^^^^^^^^^^^^^^^^^^^^^^^^^^^\n",
      "  File \"C:\\Users\\Aidin\\Desktop\\uni4022\\AI\\DecisionTree\\env\\Lib\\site-packages\\IPython\\core\\ultratb.py\", line 1345, in structured_traceback\n",
      "    return VerboseTB.structured_traceback(\n",
      "           ^^^^^^^^^^^^^^^^^^^^^^^^^^^^^^^\n",
      "  File \"C:\\Users\\Aidin\\Desktop\\uni4022\\AI\\DecisionTree\\env\\Lib\\site-packages\\IPython\\core\\ultratb.py\", line 1192, in structured_traceback\n",
      "    formatted_exception = self.format_exception_as_a_whole(etype, evalue, etb, number_of_lines_of_context,\n",
      "                          ^^^^^^^^^^^^^^^^^^^^^^^^^^^^^^^^^^^^^^^^^^^^^^^^^^^^^^^^^^^^^^^^^^^^^^^^^^^^^^^^\n",
      "  File \"C:\\Users\\Aidin\\Desktop\\uni4022\\AI\\DecisionTree\\env\\Lib\\site-packages\\IPython\\core\\ultratb.py\", line 1082, in format_exception_as_a_whole\n",
      "    self.get_records(etb, number_of_lines_of_context, tb_offset) if etb else []\n",
      "    ^^^^^^^^^^^^^^^^^^^^^^^^^^^^^^^^^^^^^^^^^^^^^^^^^^^^^^^^^^^^\n",
      "  File \"C:\\Users\\Aidin\\Desktop\\uni4022\\AI\\DecisionTree\\env\\Lib\\site-packages\\IPython\\core\\ultratb.py\", line 1134, in get_records\n",
      "    style = stack_data.style_with_executing_node(style, self._tb_highlight)\n",
      "            ^^^^^^^^^^^^^^^^^^^^^^^^^^^^^^^^^^^^^^^^^^^^^^^^^^^^^^^^^^^^^^^\n",
      "  File \"C:\\Users\\Aidin\\Desktop\\uni4022\\AI\\DecisionTree\\env\\Lib\\site-packages\\stack_data\\core.py\", line 455, in style_with_executing_node\n",
      "    class NewStyle(style):\n",
      "  File \"C:\\Users\\Aidin\\Desktop\\uni4022\\AI\\DecisionTree\\env\\Lib\\site-packages\\pygments\\style.py\", line 91, in __new__\n",
      "    ndef[4] = colorformat(styledef[3:])\n",
      "              ^^^^^^^^^^^^^^^^^^^^^^^^^\n",
      "  File \"C:\\Users\\Aidin\\Desktop\\uni4022\\AI\\DecisionTree\\env\\Lib\\site-packages\\pygments\\style.py\", line 58, in colorformat\n",
      "    assert False, \"wrong color format %r\" % text\n",
      "AssertionError: wrong color format 'ansiyellow'\n"
     ]
    }
   ],
   "source": [
    "# Load and prepare the data\n",
    "df = pd.read_csv(\"./iris.data\", header=None)\n",
    "df.columns = [\"sepal length\", \"sepal width\", \"petal length\", \"petal width\", \"class\"]\n",
    "labels = df['class'].values\n",
    "df.drop(\"class\", axis=1, inplace=True)\n",
    "\n",
    "# Normalize the dataset\n",
    "df = (df - df.mean()) / df.std()\n",
    "\n",
    "# Parameters\n",
    "genome_size = len(df)\n",
    "num_clusters = 3\n",
    "max_generations = 200\n",
    "mutation_rate = 0.008\n",
    "tournament_size = 5\n",
    "\n",
    "# Define the population sizes to tune\n",
    "population_sizes_to_tune = [10, 20, 30 , 40, 50]\n",
    "\n",
    "# Run the genetic algorithm with different population sizes and visualize the results\n",
    "results = run_genetic_algorithm_with_tuning(population_sizes_to_tune)\n",
    "\n",
    "# Find and print the best result\n",
    "best_result = max(results, key=lambda x: x[3])  \n",
    "best_individual = best_result[1]\n",
    "best_fitness = best_result[2]\n",
    "best_accuracy = best_result[3]\n",
    "\n",
    "print(\"\\nBest Result:\")\n",
    "print(\"Population Size:\", best_result[0])\n",
    "print(\"Best Individual (Cluster Assignment):\\n\", best_individual)\n",
    "print(\"Best Fitness:\", best_fitness)\n",
    "print(\"Best Accuracy:\", best_accuracy)"
   ]
  },
  {
   "cell_type": "code",
   "execution_count": null,
   "id": "b9f311a1-c859-4249-8bad-dbed6dbcb372",
   "metadata": {},
   "outputs": [],
   "source": []
  }
 ],
 "metadata": {
  "kernelspec": {
   "display_name": "Python 3 (ipykernel)",
   "language": "python",
   "name": "python3"
  },
  "language_info": {
   "codemirror_mode": {
    "name": "ipython",
    "version": 3
   },
   "file_extension": ".py",
   "mimetype": "text/x-python",
   "name": "python",
   "nbconvert_exporter": "python",
   "pygments_lexer": "ipython3",
   "version": "3.12.1"
  }
 },
 "nbformat": 4,
 "nbformat_minor": 5
}
